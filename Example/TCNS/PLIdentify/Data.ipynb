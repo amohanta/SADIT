{
 "metadata": {
  "name": "Data"
 }, 
 "nbformat": 2, 
 "worksheets": [
  {
   "cells": [
    {
     "cell_type": "code", 
     "collapsed": false, 
     "input": [
      "ls"
     ], 
     "language": "python", 
     "outputs": [
      {
       "output_type": "stream", 
       "stream": "stdout", 
       "text": [
        "ALGENCAN.out  Data.ipynb  dump_robust.txt  PLIdentify.py  PLIdentify.pyc  SLSQP.out"
       ]
      }
     ], 
     "prompt_number": 26
    }, 
    {
     "cell_type": "code", 
     "collapsed": true, 
     "input": [
      "import cPickle as pk"
     ], 
     "language": "python", 
     "outputs": [], 
     "prompt_number": 27
    }, 
    {
     "cell_type": "code", 
     "collapsed": true, 
     "input": [
      "data = pk.load(open('./dump_robust.txt', 'r'))"
     ], 
     "language": "python", 
     "outputs": [], 
     "prompt_number": 28
    }, 
    {
     "cell_type": "code", 
     "collapsed": false, 
     "input": [
      "print data.keys()"
     ], 
     "language": "python", 
     "outputs": [
      {
       "output_type": "stream", 
       "stream": "stdout", 
       "text": [
        "['em', 'winT', 'select_model', 'entropy', 'threshold', 'I_rec', 'ref_pool', 'desc']"
       ]
      }
     ], 
     "prompt_number": 29
    }, 
    {
     "cell_type": "code", 
     "collapsed": true, 
     "input": [
      "I_rec = data['I_rec']"
     ], 
     "language": "python", 
     "outputs": [], 
     "prompt_number": 30
    }, 
    {
     "cell_type": "code", 
     "collapsed": false, 
     "input": [
      "len(I_rec)"
     ], 
     "language": "python", 
     "outputs": [
      {
       "output_type": "pyout", 
       "prompt_number": 31, 
       "text": [
        "601"
       ]
      }
     ], 
     "prompt_number": 31
    }, 
    {
     "cell_type": "markdown", 
     "source": [
      "We are using this to *test* it"
     ]
    }, 
    {
     "cell_type": "code", 
     "collapsed": false, 
     "input": [
      "D = zip(*I_rec)", 
      "print len(D)", 
      "print len(D[0])"
     ], 
     "language": "python", 
     "outputs": [
      {
       "output_type": "stream", 
       "stream": "stdout", 
       "text": [
        "8", 
        "601"
       ]
      }
     ], 
     "prompt_number": 33
    }, 
    {
     "cell_type": "code", 
     "collapsed": true, 
     "input": [
      "from PLIdentify import PL_identify"
     ], 
     "language": "python", 
     "outputs": [], 
     "prompt_number": 34
    }, 
    {
     "cell_type": "code", 
     "collapsed": false, 
     "input": [
      "PL_identify(D, 0.1, D,)"
     ], 
     "language": "python", 
     "outputs": [
      {
       "ename": "TypeError", 
       "evalue": "PL_identify() takes exactly 4 arguments (3 given)", 
       "output_type": "pyerr", 
       "traceback": [
        "\u001b[0;31m---------------------------------------------------------------------------\u001b[0m\n\u001b[0;31mTypeError\u001b[0m                                 Traceback (most recent call last)", 
        "\u001b[0;32m/home/wangjing/Dropbox/Research/CyberSecurity/Robust_Method/PaperSimulation/PLIdentify/<ipython-input-35-64c4108ef899>\u001b[0m in \u001b[0;36m<module>\u001b[0;34m()\u001b[0m\n\u001b[0;32m----> 1\u001b[0;31m \u001b[0mPL_identify\u001b[0m\u001b[0;34m(\u001b[0m\u001b[0mD\u001b[0m\u001b[0;34m,\u001b[0m \u001b[0;36m0.1\u001b[0m\u001b[0;34m,\u001b[0m \u001b[0mD\u001b[0m\u001b[0;34m,\u001b[0m\u001b[0;34m)\u001b[0m\u001b[0;34m\u001b[0m\u001b[0m\n\u001b[0m", 
        "\u001b[0;31mTypeError\u001b[0m: PL_identify() takes exactly 4 arguments (3 given)"
       ]
      }
     ], 
     "prompt_number": 35
    }, 
    {
     "cell_type": "code", 
     "collapsed": true, 
     "input": [], 
     "language": "python", 
     "outputs": []
    }
   ]
  }
 ]
}